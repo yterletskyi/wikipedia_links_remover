{
 "cells": [
  {
   "cell_type": "code",
   "execution_count": 1,
   "metadata": {},
   "outputs": [
    {
     "name": "stdout",
     "output_type": "stream",
     "text": [
      "*** enter input text below:\n",
      "Lorem ipsum passages were popularized on Letraset dry-transfer sheets from the early 1970s, which were produced to be used by graphic designers for filler text.[4][2] Aldus Corporation created a version in the mid-1980s for their desktop publishing program PageMaker.[2]\n",
      "*** take your result:\n",
      "Lorem ipsum passages were popularized on Letraset dry-transfer sheets from the early 1970s, which were produced to be used by graphic designers for filler text. Aldus Corporation created a version in the mid-1980s for their desktop publishing program PageMaker.\n"
     ]
    }
   ],
   "source": [
    "import re\n",
    "pattern = re.compile(r\"\\[\\d+\\]\")\n",
    "subject = input(\"*** enter input text below:\\n\")\n",
    "result = pattern.sub(\"\", subject)\n",
    "print(\"*** take your result:\")\n",
    "print(result)"
   ]
  }
 ],
 "metadata": {
  "kernelspec": {
   "display_name": "Python 3",
   "language": "python",
   "name": "python3"
  },
  "language_info": {
   "codemirror_mode": {
    "name": "ipython",
    "version": 3
   },
   "file_extension": ".py",
   "mimetype": "text/x-python",
   "name": "python",
   "nbconvert_exporter": "python",
   "pygments_lexer": "ipython3",
   "version": "3.6.7"
  }
 },
 "nbformat": 4,
 "nbformat_minor": 2
}
